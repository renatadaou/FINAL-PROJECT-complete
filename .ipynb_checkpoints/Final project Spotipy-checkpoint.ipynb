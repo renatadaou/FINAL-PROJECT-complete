{
 "cells": [
  {
   "cell_type": "markdown",
   "id": "a5e551fe-d189-469d-b340-5fb23d06f2fe",
   "metadata": {},
   "source": [
    "\n",
    "# Taylor Swift!!!  #\n",
    "## 🦋🌟👗🧣🏙🐍💘🍷🥂 ## \n",
    "\"We're happy, free, confused and lonely at the same time.\"\n",
    "-22"
   ]
  },
  {
   "cell_type": "markdown",
   "id": "caddcbbf-98af-4418-820e-4a970728dfe7",
   "metadata": {},
   "source": [
    "### public Spotify data ###"
   ]
  },
  {
   "cell_type": "code",
   "execution_count": 4,
   "id": "def3a902-cce8-4606-bbbd-312449f2ac5e",
   "metadata": {},
   "outputs": [],
   "source": [
    "import spotipy"
   ]
  },
  {
   "cell_type": "code",
   "execution_count": 5,
   "id": "205da195-7405-485c-80eb-307c7313e562",
   "metadata": {},
   "outputs": [],
   "source": [
    "!touch .env"
   ]
  },
  {
   "cell_type": "code",
   "execution_count": 6,
   "id": "8c730fca-aaa5-469d-8627-735a029a3b47",
   "metadata": {},
   "outputs": [
    {
     "data": {
      "text/plain": [
       "True"
      ]
     },
     "execution_count": 6,
     "metadata": {},
     "output_type": "execute_result"
    }
   ],
   "source": [
    "import os\n",
    "from dotenv import load_dotenv\n",
    "load_dotenv()"
   ]
  },
  {
   "cell_type": "code",
   "execution_count": 7,
   "id": "b9eab782-b76c-4943-a108-d058dd4747c0",
   "metadata": {},
   "outputs": [],
   "source": [
    "PROJECT_API_KEY = os.getenv('PROJECT_API_KEY')\n",
    "PROJECT_API_KEY_SECRET = os.getenv('PROJECT_API_KEY_SECRET')"
   ]
  },
  {
   "cell_type": "code",
   "execution_count": 8,
   "id": "4b733db4-3a16-4ec1-8d48-2cf61858fe9e",
   "metadata": {},
   "outputs": [],
   "source": [
    "from spotipy.oauth2 import SpotifyClientCredentials\n",
    "\n",
    "spotify = spotipy.Spotify(auth_manager=SpotifyClientCredentials(\n",
    "    PROJECT_API_KEY,\n",
    "    PROJECT_API_KEY_SECRET,\n",
    "))"
   ]
  },
  {
   "cell_type": "code",
   "execution_count": 9,
   "id": "a9caf502-9885-43bf-ab2a-694c4bf7563d",
   "metadata": {},
   "outputs": [],
   "source": [
    "#from spotipy.oauth2 import SpotifyOAuth\n",
    "#scope='user-library-read'\n",
    "#oauth = SpotifyOAuth(\n",
    "    #PROJECT_API_KEY,\n",
    "    #PROJECT_API_KEY_SECRET,\n",
    "    #redirect_uri='http://localhost/callback',\n",
    "    #scope=scope\n",
    "#)\n",
    "#sp = spotipy.Spotify(auth_manager=oauth)"
   ]
  },
  {
   "cell_type": "code",
   "execution_count": 10,
   "id": "b5ec6af7-7453-4d92-95f7-ec888108033f",
   "metadata": {},
   "outputs": [],
   "source": [
    "#sp.me()"
   ]
  },
  {
   "cell_type": "markdown",
   "id": "dba85946-4ed6-4f32-8f0b-77b5d34c811c",
   "metadata": {},
   "source": [
    "### \"Who's Taylor Swift?\" ###\n",
    "### \"OMG -- am I about to introduce you to Taylor Swift?\" ###"
   ]
  },
  {
   "cell_type": "code",
   "execution_count": 11,
   "id": "e24e6a0d-5300-4ace-8633-2d3f09c7a24e",
   "metadata": {},
   "outputs": [],
   "source": [
    "results = spotify.search(q='artist:Taylor Swift', type='artist')"
   ]
  },
  {
   "cell_type": "code",
   "execution_count": 12,
   "id": "5f132594-65a1-4875-ae85-3a3d4eae337b",
   "metadata": {},
   "outputs": [
    {
     "data": {
      "text/plain": [
       "{'artists': {'href': 'https://api.spotify.com/v1/search?query=artist%3ATaylor+Swift&type=artist&offset=0&limit=10',\n",
       "  'items': [{'external_urls': {'spotify': 'https://open.spotify.com/artist/06HL4z0CvFAxyc27GXpf02'},\n",
       "    'followers': {'href': None, 'total': 95490201},\n",
       "    'genres': ['pop'],\n",
       "    'href': 'https://api.spotify.com/v1/artists/06HL4z0CvFAxyc27GXpf02',\n",
       "    'id': '06HL4z0CvFAxyc27GXpf02',\n",
       "    'images': [{'height': 640,\n",
       "      'url': 'https://i.scdn.co/image/ab6761610000e5eb859e4c14fa59296c8649e0e4',\n",
       "      'width': 640},\n",
       "     {'height': 320,\n",
       "      'url': 'https://i.scdn.co/image/ab67616100005174859e4c14fa59296c8649e0e4',\n",
       "      'width': 320},\n",
       "     {'height': 160,\n",
       "      'url': 'https://i.scdn.co/image/ab6761610000f178859e4c14fa59296c8649e0e4',\n",
       "      'width': 160}],\n",
       "    'name': 'Taylor Swift',\n",
       "    'popularity': 100,\n",
       "    'type': 'artist',\n",
       "    'uri': 'spotify:artist:06HL4z0CvFAxyc27GXpf02'},\n",
       "   {'external_urls': {'spotify': 'https://open.spotify.com/artist/0DwbGCdaD8YLRiVUEiV70Q'},\n",
       "    'followers': {'href': None, 'total': 1667},\n",
       "    'genres': [],\n",
       "    'href': 'https://api.spotify.com/v1/artists/0DwbGCdaD8YLRiVUEiV70Q',\n",
       "    'id': '0DwbGCdaD8YLRiVUEiV70Q',\n",
       "    'images': [{'height': 640,\n",
       "      'url': 'https://i.scdn.co/image/ab67616d0000b2735102e37c57e2db2afd1862d3',\n",
       "      'width': 640},\n",
       "     {'height': 300,\n",
       "      'url': 'https://i.scdn.co/image/ab67616d00001e025102e37c57e2db2afd1862d3',\n",
       "      'width': 300},\n",
       "     {'height': 64,\n",
       "      'url': 'https://i.scdn.co/image/ab67616d000048515102e37c57e2db2afd1862d3',\n",
       "      'width': 64}],\n",
       "    'name': 'Taylor Swift Piano Covers',\n",
       "    'popularity': 31,\n",
       "    'type': 'artist',\n",
       "    'uri': 'spotify:artist:0DwbGCdaD8YLRiVUEiV70Q'},\n",
       "   {'external_urls': {'spotify': 'https://open.spotify.com/artist/5WiLThuSBwqF7SMRrzQbG6'},\n",
       "    'followers': {'href': None, 'total': 431},\n",
       "    'genres': [],\n",
       "    'href': 'https://api.spotify.com/v1/artists/5WiLThuSBwqF7SMRrzQbG6',\n",
       "    'id': '5WiLThuSBwqF7SMRrzQbG6',\n",
       "    'images': [{'height': 640,\n",
       "      'url': 'https://i.scdn.co/image/ab6761610000e5eb79c237749f41cedb92acb914',\n",
       "      'width': 640},\n",
       "     {'height': 320,\n",
       "      'url': 'https://i.scdn.co/image/ab6761610000517479c237749f41cedb92acb914',\n",
       "      'width': 320},\n",
       "     {'height': 160,\n",
       "      'url': 'https://i.scdn.co/image/ab6761610000f17879c237749f41cedb92acb914',\n",
       "      'width': 160}],\n",
       "    'name': 'Taylor Swiftman',\n",
       "    'popularity': 3,\n",
       "    'type': 'artist',\n",
       "    'uri': 'spotify:artist:5WiLThuSBwqF7SMRrzQbG6'},\n",
       "   {'external_urls': {'spotify': 'https://open.spotify.com/artist/3fk7dbzeSAlNqiiX5wfDQ2'},\n",
       "    'followers': {'href': None, 'total': 1},\n",
       "    'genres': [],\n",
       "    'href': 'https://api.spotify.com/v1/artists/3fk7dbzeSAlNqiiX5wfDQ2',\n",
       "    'id': '3fk7dbzeSAlNqiiX5wfDQ2',\n",
       "    'images': [{'height': 640,\n",
       "      'url': 'https://i.scdn.co/image/ab67616d0000b2734e3314168a0d625fa88cba42',\n",
       "      'width': 640},\n",
       "     {'height': 300,\n",
       "      'url': 'https://i.scdn.co/image/ab67616d00001e024e3314168a0d625fa88cba42',\n",
       "      'width': 300},\n",
       "     {'height': 64,\n",
       "      'url': 'https://i.scdn.co/image/ab67616d000048514e3314168a0d625fa88cba42',\n",
       "      'width': 64}],\n",
       "    'name': 'Taylor Swifte',\n",
       "    'popularity': 0,\n",
       "    'type': 'artist',\n",
       "    'uri': 'spotify:artist:3fk7dbzeSAlNqiiX5wfDQ2'},\n",
       "   {'external_urls': {'spotify': 'https://open.spotify.com/artist/14waR9FpjuHkqhd3DlMAYu'},\n",
       "    'followers': {'href': None, 'total': 4},\n",
       "    'genres': [],\n",
       "    'href': 'https://api.spotify.com/v1/artists/14waR9FpjuHkqhd3DlMAYu',\n",
       "    'id': '14waR9FpjuHkqhd3DlMAYu',\n",
       "    'images': [],\n",
       "    'name': 'Taylor Swiftsz',\n",
       "    'popularity': 0,\n",
       "    'type': 'artist',\n",
       "    'uri': 'spotify:artist:14waR9FpjuHkqhd3DlMAYu'},\n",
       "   {'external_urls': {'spotify': 'https://open.spotify.com/artist/5Yzz6SisIkcvuhKSdJ02en'},\n",
       "    'followers': {'href': None, 'total': 13},\n",
       "    'genres': [],\n",
       "    'href': 'https://api.spotify.com/v1/artists/5Yzz6SisIkcvuhKSdJ02en',\n",
       "    'id': '5Yzz6SisIkcvuhKSdJ02en',\n",
       "    'images': [{'height': 640,\n",
       "      'url': 'https://i.scdn.co/image/ab67616d0000b273623c43e08dff5dce47beb004',\n",
       "      'width': 640},\n",
       "     {'height': 300,\n",
       "      'url': 'https://i.scdn.co/image/ab67616d00001e02623c43e08dff5dce47beb004',\n",
       "      'width': 300},\n",
       "     {'height': 64,\n",
       "      'url': 'https://i.scdn.co/image/ab67616d00004851623c43e08dff5dce47beb004',\n",
       "      'width': 64}],\n",
       "    'name': 'Taylor Swifter',\n",
       "    'popularity': 0,\n",
       "    'type': 'artist',\n",
       "    'uri': 'spotify:artist:5Yzz6SisIkcvuhKSdJ02en'},\n",
       "   {'external_urls': {'spotify': 'https://open.spotify.com/artist/7oW3aIseIypoEqcOqvzUfS'},\n",
       "    'followers': {'href': None, 'total': 0},\n",
       "    'genres': [],\n",
       "    'href': 'https://api.spotify.com/v1/artists/7oW3aIseIypoEqcOqvzUfS',\n",
       "    'id': '7oW3aIseIypoEqcOqvzUfS',\n",
       "    'images': [],\n",
       "    'name': 'taylorr swiftt',\n",
       "    'popularity': 1,\n",
       "    'type': 'artist',\n",
       "    'uri': 'spotify:artist:7oW3aIseIypoEqcOqvzUfS'},\n",
       "   {'external_urls': {'spotify': 'https://open.spotify.com/artist/1bgoHMYkNqVC9PTOrQECts'},\n",
       "    'followers': {'href': None, 'total': 100},\n",
       "    'genres': [],\n",
       "    'href': 'https://api.spotify.com/v1/artists/1bgoHMYkNqVC9PTOrQECts',\n",
       "    'id': '1bgoHMYkNqVC9PTOrQECts',\n",
       "    'images': [],\n",
       "    'name': 'Ed Sheeran Taylor Swift',\n",
       "    'popularity': 2,\n",
       "    'type': 'artist',\n",
       "    'uri': 'spotify:artist:1bgoHMYkNqVC9PTOrQECts'},\n",
       "   {'external_urls': {'spotify': 'https://open.spotify.com/artist/3OGj4jFXF7Cw4ORWS7T3ra'},\n",
       "    'followers': {'href': None, 'total': 83},\n",
       "    'genres': [],\n",
       "    'href': 'https://api.spotify.com/v1/artists/3OGj4jFXF7Cw4ORWS7T3ra',\n",
       "    'id': '3OGj4jFXF7Cw4ORWS7T3ra',\n",
       "    'images': [{'height': 640,\n",
       "      'url': 'https://i.scdn.co/image/ab67616d0000b273bbd79a349857d5e5ec3f88d0',\n",
       "      'width': 640},\n",
       "     {'height': 300,\n",
       "      'url': 'https://i.scdn.co/image/ab67616d00001e02bbd79a349857d5e5ec3f88d0',\n",
       "      'width': 300},\n",
       "     {'height': 64,\n",
       "      'url': 'https://i.scdn.co/image/ab67616d00004851bbd79a349857d5e5ec3f88d0',\n",
       "      'width': 64}],\n",
       "    'name': 'Taylor Swift Facts',\n",
       "    'popularity': 2,\n",
       "    'type': 'artist',\n",
       "    'uri': 'spotify:artist:3OGj4jFXF7Cw4ORWS7T3ra'},\n",
       "   {'external_urls': {'spotify': 'https://open.spotify.com/artist/7kaJOOAkXnnaA7nlEb9p0H'},\n",
       "    'followers': {'href': None, 'total': 21},\n",
       "    'genres': [],\n",
       "    'href': 'https://api.spotify.com/v1/artists/7kaJOOAkXnnaA7nlEb9p0H',\n",
       "    'id': '7kaJOOAkXnnaA7nlEb9p0H',\n",
       "    'images': [{'height': 640,\n",
       "      'url': 'https://i.scdn.co/image/ab67616d0000b2737dca066ca62e4ebb583b8058',\n",
       "      'width': 640},\n",
       "     {'height': 300,\n",
       "      'url': 'https://i.scdn.co/image/ab67616d00001e027dca066ca62e4ebb583b8058',\n",
       "      'width': 300},\n",
       "     {'height': 64,\n",
       "      'url': 'https://i.scdn.co/image/ab67616d000048517dca066ca62e4ebb583b8058',\n",
       "      'width': 64}],\n",
       "    'name': 'Taylor Swifta',\n",
       "    'popularity': 1,\n",
       "    'type': 'artist',\n",
       "    'uri': 'spotify:artist:7kaJOOAkXnnaA7nlEb9p0H'}],\n",
       "  'limit': 10,\n",
       "  'next': 'https://api.spotify.com/v1/search?query=artist%3ATaylor+Swift&type=artist&offset=10&limit=10',\n",
       "  'offset': 0,\n",
       "  'previous': None,\n",
       "  'total': 13}}"
      ]
     },
     "execution_count": 12,
     "metadata": {},
     "output_type": "execute_result"
    }
   ],
   "source": [
    "results"
   ]
  },
  {
   "cell_type": "code",
   "execution_count": 13,
   "id": "2a4353c6-9ad7-4dc6-be30-29ec98bc1a98",
   "metadata": {},
   "outputs": [
    {
     "data": {
      "text/plain": [
       "{'external_urls': {'spotify': 'https://open.spotify.com/artist/06HL4z0CvFAxyc27GXpf02'},\n",
       " 'followers': {'href': None, 'total': 95490201},\n",
       " 'genres': ['pop'],\n",
       " 'href': 'https://api.spotify.com/v1/artists/06HL4z0CvFAxyc27GXpf02',\n",
       " 'id': '06HL4z0CvFAxyc27GXpf02',\n",
       " 'images': [{'height': 640,\n",
       "   'url': 'https://i.scdn.co/image/ab6761610000e5eb859e4c14fa59296c8649e0e4',\n",
       "   'width': 640},\n",
       "  {'height': 320,\n",
       "   'url': 'https://i.scdn.co/image/ab67616100005174859e4c14fa59296c8649e0e4',\n",
       "   'width': 320},\n",
       "  {'height': 160,\n",
       "   'url': 'https://i.scdn.co/image/ab6761610000f178859e4c14fa59296c8649e0e4',\n",
       "   'width': 160}],\n",
       " 'name': 'Taylor Swift',\n",
       " 'popularity': 100,\n",
       " 'type': 'artist',\n",
       " 'uri': 'spotify:artist:06HL4z0CvFAxyc27GXpf02'}"
      ]
     },
     "execution_count": 13,
     "metadata": {},
     "output_type": "execute_result"
    }
   ],
   "source": [
    "results['artists']['items'][0]"
   ]
  },
  {
   "cell_type": "markdown",
   "id": "9d641b44-f39c-45fe-a22b-b9c0597a5396",
   "metadata": {},
   "source": [
    "### soooo, what are we listening to? "
   ]
  },
  {
   "cell_type": "code",
   "execution_count": 14,
   "id": "825f30bd-2246-43bf-93a2-bc95042c49ab",
   "metadata": {},
   "outputs": [
    {
     "name": "stdout",
     "output_type": "stream",
     "text": [
      "Cruel Summer\n",
      "Is It Over Now? (Taylor's Version) (From The Vault)\n",
      "Now That We Don't Talk (Taylor's Version) (From The Vault)\n",
      "Anti-Hero\n",
      "Lover\n",
      "\"Slut!\" (Taylor's Version) (From The Vault)\n",
      "You’re Losing Me (From The Vault)\n",
      "august\n",
      "cardigan\n",
      "Blank Space\n"
     ]
    }
   ],
   "source": [
    "client_credentials_manager = SpotifyClientCredentials(PROJECT_API_KEY,\n",
    "    PROJECT_API_KEY_SECRET,\n",
    ")\n",
    "sp = spotipy.Spotify(client_credentials_manager=client_credentials_manager)\n",
    "\n",
    "results = sp.artist_top_tracks('spotify:artist:06HL4z0CvFAxyc27GXpf02')\n",
    "\n",
    "for track in results['tracks'][:10]:\n",
    "    print(track['name'])"
   ]
  },
  {
   "cell_type": "markdown",
   "id": "45002d59-2984-47f2-b101-c1b9dfa8842a",
   "metadata": {},
   "source": [
    "### Play counts! (Taylor's Version) (From The Vault) ###\n",
    "It's a cruel summer"
   ]
  },
  {
   "cell_type": "code",
   "execution_count": 15,
   "id": "f8346719-6c53-4873-8c2b-66cc2c760db8",
   "metadata": {},
   "outputs": [
    {
     "name": "stdout",
     "output_type": "stream",
     "text": [
      "Requirement already satisfied: playwright-stealth in /Users/renatacarlosdaou/.pyenv/versions/3.11.6/lib/python3.11/site-packages (1.0.6)\n",
      "Requirement already satisfied: playwright in /Users/renatacarlosdaou/.pyenv/versions/3.11.6/lib/python3.11/site-packages (from playwright-stealth) (1.40.0)\n",
      "Requirement already satisfied: greenlet==3.0.1 in /Users/renatacarlosdaou/.pyenv/versions/3.11.6/lib/python3.11/site-packages (from playwright->playwright-stealth) (3.0.1)\n",
      "Requirement already satisfied: pyee==11.0.1 in /Users/renatacarlosdaou/.pyenv/versions/3.11.6/lib/python3.11/site-packages (from playwright->playwright-stealth) (11.0.1)\n",
      "Requirement already satisfied: typing-extensions in /Users/renatacarlosdaou/.pyenv/versions/3.11.6/lib/python3.11/site-packages (from pyee==11.0.1->playwright->playwright-stealth) (4.8.0)\n"
     ]
    }
   ],
   "source": [
    "!pip install playwright-stealth"
   ]
  },
  {
   "cell_type": "code",
   "execution_count": 16,
   "id": "d2d6506d-f605-42e1-9cf6-fea356cc7dfe",
   "metadata": {},
   "outputs": [],
   "source": [
    "from playwright.async_api import async_playwright\n",
    "from playwright_stealth import stealth_async"
   ]
  },
  {
   "cell_type": "code",
   "execution_count": 17,
   "id": "ef81b624-b072-4fdd-b404-906ae3b748a6",
   "metadata": {},
   "outputs": [],
   "source": [
    "playwright = await async_playwright().start()\n",
    "browser = browser = await playwright.webkit.launch(headless = False)\n",
    "page = await browser.new_page()"
   ]
  },
  {
   "cell_type": "code",
   "execution_count": 18,
   "id": "2c937844-4d50-47f9-8f75-9ce1b3d45aae",
   "metadata": {},
   "outputs": [
    {
     "data": {
      "text/plain": [
       "<Response url='https://open.spotify.com/artist/06HL4z0CvFAxyc27GXpf02' request=<Request url='https://open.spotify.com/artist/06HL4z0CvFAxyc27GXpf02' method='GET'>>"
      ]
     },
     "execution_count": 18,
     "metadata": {},
     "output_type": "execute_result"
    }
   ],
   "source": [
    "await page.goto(\"https://open.spotify.com/artist/06HL4z0CvFAxyc27GXpf02\") "
   ]
  },
  {
   "cell_type": "code",
   "execution_count": 19,
   "id": "498a3b58-d58c-46e3-9c6a-f7667463739b",
   "metadata": {},
   "outputs": [],
   "source": [
    "all_Tay = page.locator('See more')"
   ]
  },
  {
   "cell_type": "code",
   "execution_count": 20,
   "id": "3c6c3720-e80d-492e-b869-bb0fc9f5d834",
   "metadata": {},
   "outputs": [],
   "source": [
    "await page.click('text=See more')"
   ]
  },
  {
   "cell_type": "code",
   "execution_count": 21,
   "id": "5a4e5957-80d8-4b12-b060-627ff35141ae",
   "metadata": {},
   "outputs": [],
   "source": [
    "from bs4 import BeautifulSoup\n",
    "\n",
    "doc = BeautifulSoup(await page.content())"
   ]
  },
  {
   "cell_type": "code",
   "execution_count": 22,
   "id": "ecbba615-ab7e-44f9-9a3d-50e6b265e21d",
   "metadata": {},
   "outputs": [],
   "source": [
    "top_songs = doc.find_all('div', role='row')"
   ]
  },
  {
   "cell_type": "code",
   "execution_count": 23,
   "id": "1dda1257-d42f-4028-aa72-3772b97c4829",
   "metadata": {},
   "outputs": [
    {
     "data": {
      "text/plain": [
       "[<div aria-rowindex=\"1\" aria-selected=\"false\" role=\"row\"><div class=\"h4HgbO_Uu1JYg5UGANeQ wTUruPetkKdWAR1dd6w4\" data-testid=\"tracklist-row\" draggable=\"true\" role=\"presentation\"><div aria-colindex=\"1\" class=\"NZAU7CsuZsMeMQB8zYUu\" role=\"gridcell\" tabindex=\"-1\"><div class=\"VpYFchIiPg3tPhBGyynT\"><span class=\"Type__TypeElement-sc-goli3j-0 bGcjcI VrRwdIZO0sRX1lsWxJBe\" data-encore-id=\"type\">1</span><button aria-label=\"Play Cruel Summer by Taylor Swift\" class=\"RfidWIoz8FON2WhFoItU\" tabindex=\"-1\"><svg aria-hidden=\"true\" class=\"Svg-sc-ytk21e-0 iYxpxA UIBT7E6ZYMcSDl1KL62g\" data-encore-id=\"icon\" role=\"img\" viewbox=\"0 0 24 24\"><path d=\"m7.05 3.606 13.49 7.788a.7.7 0 0 1 0 1.212L7.05 20.394A.7.7 0 0 1 6 19.788V4.212a.7.7 0 0 1 1.05-.606z\"></path></svg></button></div></div><div aria-colindex=\"2\" class=\"gvLrgQXBFVW6m9MscfFA\" role=\"gridcell\" tabindex=\"-1\"><img alt=\"\" aria-hidden=\"false\" class=\"mMx2LUixlnN_Fu45JpFB rkw8BWQi3miXqtlJhKg0 Yn2Ei5QZn19gria6LjZj\" draggable=\"false\" height=\"40\" loading=\"eager\" src=\"https://i.scdn.co/image/ab67616d00001e02e787cffec20aa2a396a61647\" style=\"border-radius: 4px;\" width=\"40\"/><div class=\"iCQtmPqY0QvkumAOuCjr\"><a class=\"t_yrXoUO3qGsJS4Y6iXX\" data-testid=\"internal-track-link\" draggable=\"false\" href=\"/track/1BxfuPKGuaTgP7aM0Bbdwr\" tabindex=\"-1\"><div class=\"Type__TypeElement-sc-goli3j-0 fZDcWX t_yrXoUO3qGsJS4Y6iXX standalone-ellipsis-one-line\" data-encore-id=\"type\" dir=\"auto\">Cruel Summer</div></a></div></div><div aria-colindex=\"3\" class=\"bfQ2S9bMXr_kJjqEfcwA\" role=\"gridcell\" tabindex=\"-1\"><div class=\"Type__TypeElement-sc-goli3j-0 ieTwfQ nYg_xsOVmrVE_8qk1GCW\" data-encore-id=\"type\">1,451,666,552</div></div><div aria-colindex=\"4\" class=\"HcMOFLaukKJdK5LfdHh0\" role=\"gridcell\" tabindex=\"-1\"><button aria-checked=\"false\" aria-label=\"Save to Your Library\" class=\"Button-sc-1dqy6lx-0 lhGroS tGKwoPuvNBNK3TzCS5OH\" data-encore-id=\"buttonTertiary\" data-testid=\"add-button\" tabindex=\"-1\"><span aria-hidden=\"true\" class=\"IconWrapper__Wrapper-sc-16usrgb-0 hYdsxw\"><svg aria-hidden=\"true\" class=\"Svg-sc-ytk21e-0 kPpCsU\" data-encore-id=\"icon\" role=\"img\" viewbox=\"0 0 16 16\"><path d=\"M1.69 2A4.582 4.582 0 0 1 8 2.023 4.583 4.583 0 0 1 11.88.817h.002a4.618 4.618 0 0 1 3.782 3.65v.003a4.543 4.543 0 0 1-1.011 3.84L9.35 14.629a1.765 1.765 0 0 1-2.093.464 1.762 1.762 0 0 1-.605-.463L1.348 8.309A4.582 4.582 0 0 1 1.689 2zm3.158.252A3.082 3.082 0 0 0 2.49 7.337l.005.005L7.8 13.664a.264.264 0 0 0 .311.069.262.262 0 0 0 .09-.069l5.312-6.33a3.043 3.043 0 0 0 .68-2.573 3.118 3.118 0 0 0-2.551-2.463 3.079 3.079 0 0 0-2.612.816l-.007.007a1.501 1.501 0 0 1-2.045 0l-.009-.008a3.082 3.082 0 0 0-2.121-.861z\"></path></svg></span></button><div class=\"Type__TypeElement-sc-goli3j-0 bDHxRN Btg2qHSuepFGBG6X0yEN\" data-encore-id=\"type\">2:58</div><button aria-haspopup=\"menu\" aria-label=\"More options for Cruel Summer by Taylor Swift\" class=\"Button-sc-1dqy6lx-0 lhGroS mYN_ST1TsDdC6q1k1_xs\" data-encore-id=\"buttonTertiary\" data-testid=\"more-button\" tabindex=\"-1\"><span aria-hidden=\"true\" class=\"IconWrapper__Wrapper-sc-16usrgb-0 hYdsxw\"><svg aria-hidden=\"true\" class=\"Svg-sc-ytk21e-0 kPpCsU\" data-encore-id=\"icon\" role=\"img\" viewbox=\"0 0 16 16\"><path d=\"M3 8a1.5 1.5 0 1 1-3 0 1.5 1.5 0 0 1 3 0zm6.5 0a1.5 1.5 0 1 1-3 0 1.5 1.5 0 0 1 3 0zM16 8a1.5 1.5 0 1 1-3 0 1.5 1.5 0 0 1 3 0z\"></path></svg></span></button></div></div></div>,\n",
       " <div aria-rowindex=\"2\" aria-selected=\"false\" role=\"row\"><div class=\"h4HgbO_Uu1JYg5UGANeQ wTUruPetkKdWAR1dd6w4\" data-testid=\"tracklist-row\" draggable=\"true\" role=\"presentation\"><div aria-colindex=\"1\" class=\"NZAU7CsuZsMeMQB8zYUu\" role=\"gridcell\" tabindex=\"-1\"><div class=\"VpYFchIiPg3tPhBGyynT\"><span class=\"Type__TypeElement-sc-goli3j-0 bGcjcI VrRwdIZO0sRX1lsWxJBe\" data-encore-id=\"type\">2</span><button aria-label=\"Play Is It Over Now? (Taylor's Version) (From The Vault) by Taylor Swift\" class=\"RfidWIoz8FON2WhFoItU\" tabindex=\"-1\"><svg aria-hidden=\"true\" class=\"Svg-sc-ytk21e-0 iYxpxA UIBT7E6ZYMcSDl1KL62g\" data-encore-id=\"icon\" role=\"img\" viewbox=\"0 0 24 24\"><path d=\"m7.05 3.606 13.49 7.788a.7.7 0 0 1 0 1.212L7.05 20.394A.7.7 0 0 1 6 19.788V4.212a.7.7 0 0 1 1.05-.606z\"></path></svg></button></div></div><div aria-colindex=\"2\" class=\"gvLrgQXBFVW6m9MscfFA\" role=\"gridcell\" tabindex=\"-1\"><img alt=\"\" aria-hidden=\"false\" class=\"mMx2LUixlnN_Fu45JpFB rkw8BWQi3miXqtlJhKg0 Yn2Ei5QZn19gria6LjZj\" draggable=\"false\" height=\"40\" loading=\"eager\" src=\"https://i.scdn.co/image/ab67616d00001e02904445d70d04eb24d6bb79ac\" style=\"border-radius: 4px;\" width=\"40\"/><div class=\"iCQtmPqY0QvkumAOuCjr\"><a class=\"t_yrXoUO3qGsJS4Y6iXX\" data-testid=\"internal-track-link\" draggable=\"false\" href=\"/track/1Iq8oo9XkmmvCQiGOfORiz\" tabindex=\"-1\"><div class=\"Type__TypeElement-sc-goli3j-0 fZDcWX t_yrXoUO3qGsJS4Y6iXX standalone-ellipsis-one-line\" data-encore-id=\"type\" dir=\"auto\">Is It Over Now? (Taylor's Version) (From The Vault)</div></a></div></div><div aria-colindex=\"3\" class=\"bfQ2S9bMXr_kJjqEfcwA\" role=\"gridcell\" tabindex=\"-1\"><div class=\"Type__TypeElement-sc-goli3j-0 ieTwfQ nYg_xsOVmrVE_8qk1GCW\" data-encore-id=\"type\">168,780,522</div></div><div aria-colindex=\"4\" class=\"HcMOFLaukKJdK5LfdHh0\" role=\"gridcell\" tabindex=\"-1\"><button aria-checked=\"false\" aria-label=\"Save to Your Library\" class=\"Button-sc-1dqy6lx-0 lhGroS tGKwoPuvNBNK3TzCS5OH\" data-encore-id=\"buttonTertiary\" data-testid=\"add-button\" tabindex=\"-1\"><span aria-hidden=\"true\" class=\"IconWrapper__Wrapper-sc-16usrgb-0 hYdsxw\"><svg aria-hidden=\"true\" class=\"Svg-sc-ytk21e-0 kPpCsU\" data-encore-id=\"icon\" role=\"img\" viewbox=\"0 0 16 16\"><path d=\"M1.69 2A4.582 4.582 0 0 1 8 2.023 4.583 4.583 0 0 1 11.88.817h.002a4.618 4.618 0 0 1 3.782 3.65v.003a4.543 4.543 0 0 1-1.011 3.84L9.35 14.629a1.765 1.765 0 0 1-2.093.464 1.762 1.762 0 0 1-.605-.463L1.348 8.309A4.582 4.582 0 0 1 1.689 2zm3.158.252A3.082 3.082 0 0 0 2.49 7.337l.005.005L7.8 13.664a.264.264 0 0 0 .311.069.262.262 0 0 0 .09-.069l5.312-6.33a3.043 3.043 0 0 0 .68-2.573 3.118 3.118 0 0 0-2.551-2.463 3.079 3.079 0 0 0-2.612.816l-.007.007a1.501 1.501 0 0 1-2.045 0l-.009-.008a3.082 3.082 0 0 0-2.121-.861z\"></path></svg></span></button><div class=\"Type__TypeElement-sc-goli3j-0 bDHxRN Btg2qHSuepFGBG6X0yEN\" data-encore-id=\"type\">3:49</div><button aria-haspopup=\"menu\" aria-label=\"More options for Is It Over Now? (Taylor's Version) (From The Vault) by Taylor Swift\" class=\"Button-sc-1dqy6lx-0 lhGroS mYN_ST1TsDdC6q1k1_xs\" data-encore-id=\"buttonTertiary\" data-testid=\"more-button\" tabindex=\"-1\"><span aria-hidden=\"true\" class=\"IconWrapper__Wrapper-sc-16usrgb-0 hYdsxw\"><svg aria-hidden=\"true\" class=\"Svg-sc-ytk21e-0 kPpCsU\" data-encore-id=\"icon\" role=\"img\" viewbox=\"0 0 16 16\"><path d=\"M3 8a1.5 1.5 0 1 1-3 0 1.5 1.5 0 0 1 3 0zm6.5 0a1.5 1.5 0 1 1-3 0 1.5 1.5 0 0 1 3 0zM16 8a1.5 1.5 0 1 1-3 0 1.5 1.5 0 0 1 3 0z\"></path></svg></span></button></div></div></div>,\n",
       " <div aria-rowindex=\"3\" aria-selected=\"false\" role=\"row\"><div class=\"h4HgbO_Uu1JYg5UGANeQ wTUruPetkKdWAR1dd6w4\" data-testid=\"tracklist-row\" draggable=\"true\" role=\"presentation\"><div aria-colindex=\"1\" class=\"NZAU7CsuZsMeMQB8zYUu\" role=\"gridcell\" tabindex=\"-1\"><div class=\"VpYFchIiPg3tPhBGyynT\"><span class=\"Type__TypeElement-sc-goli3j-0 bGcjcI VrRwdIZO0sRX1lsWxJBe\" data-encore-id=\"type\">3</span><button aria-label=\"Play Now That We Don't Talk (Taylor's Version) (From The Vault) by Taylor Swift\" class=\"RfidWIoz8FON2WhFoItU\" tabindex=\"-1\"><svg aria-hidden=\"true\" class=\"Svg-sc-ytk21e-0 iYxpxA UIBT7E6ZYMcSDl1KL62g\" data-encore-id=\"icon\" role=\"img\" viewbox=\"0 0 24 24\"><path d=\"m7.05 3.606 13.49 7.788a.7.7 0 0 1 0 1.212L7.05 20.394A.7.7 0 0 1 6 19.788V4.212a.7.7 0 0 1 1.05-.606z\"></path></svg></button></div></div><div aria-colindex=\"2\" class=\"gvLrgQXBFVW6m9MscfFA\" role=\"gridcell\" tabindex=\"-1\"><img alt=\"\" aria-hidden=\"false\" class=\"mMx2LUixlnN_Fu45JpFB rkw8BWQi3miXqtlJhKg0 Yn2Ei5QZn19gria6LjZj\" draggable=\"false\" height=\"40\" loading=\"eager\" src=\"https://i.scdn.co/image/ab67616d00001e02904445d70d04eb24d6bb79ac\" style=\"border-radius: 4px;\" width=\"40\"/><div class=\"iCQtmPqY0QvkumAOuCjr\"><a class=\"t_yrXoUO3qGsJS4Y6iXX\" data-testid=\"internal-track-link\" draggable=\"false\" href=\"/track/5KD6AEm19QnMbfWpfoOHMl\" tabindex=\"-1\"><div class=\"Type__TypeElement-sc-goli3j-0 fZDcWX t_yrXoUO3qGsJS4Y6iXX standalone-ellipsis-one-line\" data-encore-id=\"type\" dir=\"auto\">Now That We Don't Talk (Taylor's Version) (From The Vault)</div></a></div></div><div aria-colindex=\"3\" class=\"bfQ2S9bMXr_kJjqEfcwA\" role=\"gridcell\" tabindex=\"-1\"><div class=\"Type__TypeElement-sc-goli3j-0 ieTwfQ nYg_xsOVmrVE_8qk1GCW\" data-encore-id=\"type\">125,075,117</div></div><div aria-colindex=\"4\" class=\"HcMOFLaukKJdK5LfdHh0\" role=\"gridcell\" tabindex=\"-1\"><button aria-checked=\"false\" aria-label=\"Save to Your Library\" class=\"Button-sc-1dqy6lx-0 lhGroS tGKwoPuvNBNK3TzCS5OH\" data-encore-id=\"buttonTertiary\" data-testid=\"add-button\" tabindex=\"-1\"><span aria-hidden=\"true\" class=\"IconWrapper__Wrapper-sc-16usrgb-0 hYdsxw\"><svg aria-hidden=\"true\" class=\"Svg-sc-ytk21e-0 kPpCsU\" data-encore-id=\"icon\" role=\"img\" viewbox=\"0 0 16 16\"><path d=\"M1.69 2A4.582 4.582 0 0 1 8 2.023 4.583 4.583 0 0 1 11.88.817h.002a4.618 4.618 0 0 1 3.782 3.65v.003a4.543 4.543 0 0 1-1.011 3.84L9.35 14.629a1.765 1.765 0 0 1-2.093.464 1.762 1.762 0 0 1-.605-.463L1.348 8.309A4.582 4.582 0 0 1 1.689 2zm3.158.252A3.082 3.082 0 0 0 2.49 7.337l.005.005L7.8 13.664a.264.264 0 0 0 .311.069.262.262 0 0 0 .09-.069l5.312-6.33a3.043 3.043 0 0 0 .68-2.573 3.118 3.118 0 0 0-2.551-2.463 3.079 3.079 0 0 0-2.612.816l-.007.007a1.501 1.501 0 0 1-2.045 0l-.009-.008a3.082 3.082 0 0 0-2.121-.861z\"></path></svg></span></button><div class=\"Type__TypeElement-sc-goli3j-0 bDHxRN Btg2qHSuepFGBG6X0yEN\" data-encore-id=\"type\">2:26</div><button aria-haspopup=\"menu\" aria-label=\"More options for Now That We Don't Talk (Taylor's Version) (From The Vault) by Taylor Swift\" class=\"Button-sc-1dqy6lx-0 lhGroS mYN_ST1TsDdC6q1k1_xs\" data-encore-id=\"buttonTertiary\" data-testid=\"more-button\" tabindex=\"-1\"><span aria-hidden=\"true\" class=\"IconWrapper__Wrapper-sc-16usrgb-0 hYdsxw\"><svg aria-hidden=\"true\" class=\"Svg-sc-ytk21e-0 kPpCsU\" data-encore-id=\"icon\" role=\"img\" viewbox=\"0 0 16 16\"><path d=\"M3 8a1.5 1.5 0 1 1-3 0 1.5 1.5 0 0 1 3 0zm6.5 0a1.5 1.5 0 1 1-3 0 1.5 1.5 0 0 1 3 0zM16 8a1.5 1.5 0 1 1-3 0 1.5 1.5 0 0 1 3 0z\"></path></svg></span></button></div></div></div>,\n",
       " <div aria-rowindex=\"4\" aria-selected=\"false\" role=\"row\"><div class=\"h4HgbO_Uu1JYg5UGANeQ wTUruPetkKdWAR1dd6w4\" data-testid=\"tracklist-row\" draggable=\"true\" role=\"presentation\"><div aria-colindex=\"1\" class=\"NZAU7CsuZsMeMQB8zYUu\" role=\"gridcell\" tabindex=\"-1\"><div class=\"VpYFchIiPg3tPhBGyynT\"><span class=\"Type__TypeElement-sc-goli3j-0 bGcjcI VrRwdIZO0sRX1lsWxJBe\" data-encore-id=\"type\">4</span><button aria-label=\"Play Anti-Hero by Taylor Swift\" class=\"RfidWIoz8FON2WhFoItU\" tabindex=\"-1\"><svg aria-hidden=\"true\" class=\"Svg-sc-ytk21e-0 iYxpxA UIBT7E6ZYMcSDl1KL62g\" data-encore-id=\"icon\" role=\"img\" viewbox=\"0 0 24 24\"><path d=\"m7.05 3.606 13.49 7.788a.7.7 0 0 1 0 1.212L7.05 20.394A.7.7 0 0 1 6 19.788V4.212a.7.7 0 0 1 1.05-.606z\"></path></svg></button></div></div><div aria-colindex=\"2\" class=\"gvLrgQXBFVW6m9MscfFA\" role=\"gridcell\" tabindex=\"-1\"><img alt=\"\" aria-hidden=\"false\" class=\"mMx2LUixlnN_Fu45JpFB rkw8BWQi3miXqtlJhKg0 Yn2Ei5QZn19gria6LjZj\" draggable=\"false\" height=\"40\" loading=\"eager\" src=\"https://i.scdn.co/image/ab67616d00001e02bb54dde68cd23e2a268ae0f5\" style=\"border-radius: 4px;\" width=\"40\"/><div class=\"iCQtmPqY0QvkumAOuCjr\"><a class=\"t_yrXoUO3qGsJS4Y6iXX\" data-testid=\"internal-track-link\" draggable=\"false\" href=\"/track/0V3wPSX9ygBnCm8psDIegu\" tabindex=\"-1\"><div class=\"Type__TypeElement-sc-goli3j-0 fZDcWX t_yrXoUO3qGsJS4Y6iXX standalone-ellipsis-one-line\" data-encore-id=\"type\" dir=\"auto\">Anti-Hero</div></a></div></div><div aria-colindex=\"3\" class=\"bfQ2S9bMXr_kJjqEfcwA\" role=\"gridcell\" tabindex=\"-1\"><div class=\"Type__TypeElement-sc-goli3j-0 ieTwfQ nYg_xsOVmrVE_8qk1GCW\" data-encore-id=\"type\">1,281,681,592</div></div><div aria-colindex=\"4\" class=\"HcMOFLaukKJdK5LfdHh0\" role=\"gridcell\" tabindex=\"-1\"><button aria-checked=\"false\" aria-label=\"Save to Your Library\" class=\"Button-sc-1dqy6lx-0 lhGroS tGKwoPuvNBNK3TzCS5OH\" data-encore-id=\"buttonTertiary\" data-testid=\"add-button\" tabindex=\"-1\"><span aria-hidden=\"true\" class=\"IconWrapper__Wrapper-sc-16usrgb-0 hYdsxw\"><svg aria-hidden=\"true\" class=\"Svg-sc-ytk21e-0 kPpCsU\" data-encore-id=\"icon\" role=\"img\" viewbox=\"0 0 16 16\"><path d=\"M1.69 2A4.582 4.582 0 0 1 8 2.023 4.583 4.583 0 0 1 11.88.817h.002a4.618 4.618 0 0 1 3.782 3.65v.003a4.543 4.543 0 0 1-1.011 3.84L9.35 14.629a1.765 1.765 0 0 1-2.093.464 1.762 1.762 0 0 1-.605-.463L1.348 8.309A4.582 4.582 0 0 1 1.689 2zm3.158.252A3.082 3.082 0 0 0 2.49 7.337l.005.005L7.8 13.664a.264.264 0 0 0 .311.069.262.262 0 0 0 .09-.069l5.312-6.33a3.043 3.043 0 0 0 .68-2.573 3.118 3.118 0 0 0-2.551-2.463 3.079 3.079 0 0 0-2.612.816l-.007.007a1.501 1.501 0 0 1-2.045 0l-.009-.008a3.082 3.082 0 0 0-2.121-.861z\"></path></svg></span></button><div class=\"Type__TypeElement-sc-goli3j-0 bDHxRN Btg2qHSuepFGBG6X0yEN\" data-encore-id=\"type\">3:20</div><button aria-haspopup=\"menu\" aria-label=\"More options for Anti-Hero by Taylor Swift\" class=\"Button-sc-1dqy6lx-0 lhGroS mYN_ST1TsDdC6q1k1_xs\" data-encore-id=\"buttonTertiary\" data-testid=\"more-button\" tabindex=\"-1\"><span aria-hidden=\"true\" class=\"IconWrapper__Wrapper-sc-16usrgb-0 hYdsxw\"><svg aria-hidden=\"true\" class=\"Svg-sc-ytk21e-0 kPpCsU\" data-encore-id=\"icon\" role=\"img\" viewbox=\"0 0 16 16\"><path d=\"M3 8a1.5 1.5 0 1 1-3 0 1.5 1.5 0 0 1 3 0zm6.5 0a1.5 1.5 0 1 1-3 0 1.5 1.5 0 0 1 3 0zM16 8a1.5 1.5 0 1 1-3 0 1.5 1.5 0 0 1 3 0z\"></path></svg></span></button></div></div></div>,\n",
       " <div aria-rowindex=\"5\" aria-selected=\"false\" role=\"row\"><div class=\"h4HgbO_Uu1JYg5UGANeQ wTUruPetkKdWAR1dd6w4\" data-testid=\"tracklist-row\" draggable=\"true\" role=\"presentation\"><div aria-colindex=\"1\" class=\"NZAU7CsuZsMeMQB8zYUu\" role=\"gridcell\" tabindex=\"-1\"><div class=\"VpYFchIiPg3tPhBGyynT\"><span class=\"Type__TypeElement-sc-goli3j-0 bGcjcI VrRwdIZO0sRX1lsWxJBe\" data-encore-id=\"type\">5</span><button aria-label=\"Play Lover by Taylor Swift\" class=\"RfidWIoz8FON2WhFoItU\" tabindex=\"-1\"><svg aria-hidden=\"true\" class=\"Svg-sc-ytk21e-0 iYxpxA UIBT7E6ZYMcSDl1KL62g\" data-encore-id=\"icon\" role=\"img\" viewbox=\"0 0 24 24\"><path d=\"m7.05 3.606 13.49 7.788a.7.7 0 0 1 0 1.212L7.05 20.394A.7.7 0 0 1 6 19.788V4.212a.7.7 0 0 1 1.05-.606z\"></path></svg></button></div></div><div aria-colindex=\"2\" class=\"gvLrgQXBFVW6m9MscfFA\" role=\"gridcell\" tabindex=\"-1\"><img alt=\"\" aria-hidden=\"false\" class=\"mMx2LUixlnN_Fu45JpFB rkw8BWQi3miXqtlJhKg0 Yn2Ei5QZn19gria6LjZj\" draggable=\"false\" height=\"40\" loading=\"eager\" src=\"https://i.scdn.co/image/ab67616d00001e02e787cffec20aa2a396a61647\" style=\"border-radius: 4px;\" width=\"40\"/><div class=\"iCQtmPqY0QvkumAOuCjr\"><a class=\"t_yrXoUO3qGsJS4Y6iXX\" data-testid=\"internal-track-link\" draggable=\"false\" href=\"/track/1dGr1c8CrMLDpV6mPbImSI\" tabindex=\"-1\"><div class=\"Type__TypeElement-sc-goli3j-0 fZDcWX t_yrXoUO3qGsJS4Y6iXX standalone-ellipsis-one-line\" data-encore-id=\"type\" dir=\"auto\">Lover</div></a></div></div><div aria-colindex=\"3\" class=\"bfQ2S9bMXr_kJjqEfcwA\" role=\"gridcell\" tabindex=\"-1\"><div class=\"Type__TypeElement-sc-goli3j-0 ieTwfQ nYg_xsOVmrVE_8qk1GCW\" data-encore-id=\"type\">1,112,830,283</div></div><div aria-colindex=\"4\" class=\"HcMOFLaukKJdK5LfdHh0\" role=\"gridcell\" tabindex=\"-1\"><button aria-checked=\"false\" aria-label=\"Save to Your Library\" class=\"Button-sc-1dqy6lx-0 lhGroS tGKwoPuvNBNK3TzCS5OH\" data-encore-id=\"buttonTertiary\" data-testid=\"add-button\" tabindex=\"-1\"><span aria-hidden=\"true\" class=\"IconWrapper__Wrapper-sc-16usrgb-0 hYdsxw\"><svg aria-hidden=\"true\" class=\"Svg-sc-ytk21e-0 kPpCsU\" data-encore-id=\"icon\" role=\"img\" viewbox=\"0 0 16 16\"><path d=\"M1.69 2A4.582 4.582 0 0 1 8 2.023 4.583 4.583 0 0 1 11.88.817h.002a4.618 4.618 0 0 1 3.782 3.65v.003a4.543 4.543 0 0 1-1.011 3.84L9.35 14.629a1.765 1.765 0 0 1-2.093.464 1.762 1.762 0 0 1-.605-.463L1.348 8.309A4.582 4.582 0 0 1 1.689 2zm3.158.252A3.082 3.082 0 0 0 2.49 7.337l.005.005L7.8 13.664a.264.264 0 0 0 .311.069.262.262 0 0 0 .09-.069l5.312-6.33a3.043 3.043 0 0 0 .68-2.573 3.118 3.118 0 0 0-2.551-2.463 3.079 3.079 0 0 0-2.612.816l-.007.007a1.501 1.501 0 0 1-2.045 0l-.009-.008a3.082 3.082 0 0 0-2.121-.861z\"></path></svg></span></button><div class=\"Type__TypeElement-sc-goli3j-0 bDHxRN Btg2qHSuepFGBG6X0yEN\" data-encore-id=\"type\">3:41</div><button aria-haspopup=\"menu\" aria-label=\"More options for Lover by Taylor Swift\" class=\"Button-sc-1dqy6lx-0 lhGroS mYN_ST1TsDdC6q1k1_xs\" data-encore-id=\"buttonTertiary\" data-testid=\"more-button\" tabindex=\"-1\"><span aria-hidden=\"true\" class=\"IconWrapper__Wrapper-sc-16usrgb-0 hYdsxw\"><svg aria-hidden=\"true\" class=\"Svg-sc-ytk21e-0 kPpCsU\" data-encore-id=\"icon\" role=\"img\" viewbox=\"0 0 16 16\"><path d=\"M3 8a1.5 1.5 0 1 1-3 0 1.5 1.5 0 0 1 3 0zm6.5 0a1.5 1.5 0 1 1-3 0 1.5 1.5 0 0 1 3 0zM16 8a1.5 1.5 0 1 1-3 0 1.5 1.5 0 0 1 3 0z\"></path></svg></span></button></div></div></div>,\n",
       " <div aria-rowindex=\"6\" aria-selected=\"false\" role=\"row\"><div class=\"h4HgbO_Uu1JYg5UGANeQ wTUruPetkKdWAR1dd6w4\" data-testid=\"tracklist-row\" draggable=\"true\" role=\"presentation\"><div aria-colindex=\"1\" class=\"NZAU7CsuZsMeMQB8zYUu\" role=\"gridcell\" tabindex=\"-1\"><div class=\"VpYFchIiPg3tPhBGyynT\"><span class=\"Type__TypeElement-sc-goli3j-0 bGcjcI VrRwdIZO0sRX1lsWxJBe\" data-encore-id=\"type\">6</span><button aria-label=\"Play &quot;Slut!&quot; (Taylor's Version) (From The Vault) by Taylor Swift\" class=\"RfidWIoz8FON2WhFoItU\" tabindex=\"-1\"><svg aria-hidden=\"true\" class=\"Svg-sc-ytk21e-0 iYxpxA UIBT7E6ZYMcSDl1KL62g\" data-encore-id=\"icon\" role=\"img\" viewbox=\"0 0 24 24\"><path d=\"m7.05 3.606 13.49 7.788a.7.7 0 0 1 0 1.212L7.05 20.394A.7.7 0 0 1 6 19.788V4.212a.7.7 0 0 1 1.05-.606z\"></path></svg></button></div></div><div aria-colindex=\"2\" class=\"gvLrgQXBFVW6m9MscfFA\" role=\"gridcell\" tabindex=\"-1\"><img alt=\"\" aria-hidden=\"false\" class=\"mMx2LUixlnN_Fu45JpFB rkw8BWQi3miXqtlJhKg0 Yn2Ei5QZn19gria6LjZj\" draggable=\"false\" height=\"40\" loading=\"eager\" src=\"https://i.scdn.co/image/ab67616d00001e02904445d70d04eb24d6bb79ac\" style=\"border-radius: 4px;\" width=\"40\"/><div class=\"iCQtmPqY0QvkumAOuCjr\"><a class=\"t_yrXoUO3qGsJS4Y6iXX\" data-testid=\"internal-track-link\" draggable=\"false\" href=\"/track/71BqAINEnezjQfxE4VuJfq\" tabindex=\"-1\"><div class=\"Type__TypeElement-sc-goli3j-0 fZDcWX t_yrXoUO3qGsJS4Y6iXX standalone-ellipsis-one-line\" data-encore-id=\"type\" dir=\"auto\">\"Slut!\" (Taylor's Version) (From The Vault)</div></a></div></div><div aria-colindex=\"3\" class=\"bfQ2S9bMXr_kJjqEfcwA\" role=\"gridcell\" tabindex=\"-1\"><div class=\"Type__TypeElement-sc-goli3j-0 ieTwfQ nYg_xsOVmrVE_8qk1GCW\" data-encore-id=\"type\">110,380,625</div></div><div aria-colindex=\"4\" class=\"HcMOFLaukKJdK5LfdHh0\" role=\"gridcell\" tabindex=\"-1\"><button aria-checked=\"false\" aria-label=\"Save to Your Library\" class=\"Button-sc-1dqy6lx-0 lhGroS tGKwoPuvNBNK3TzCS5OH\" data-encore-id=\"buttonTertiary\" data-testid=\"add-button\" tabindex=\"-1\"><span aria-hidden=\"true\" class=\"IconWrapper__Wrapper-sc-16usrgb-0 hYdsxw\"><svg aria-hidden=\"true\" class=\"Svg-sc-ytk21e-0 kPpCsU\" data-encore-id=\"icon\" role=\"img\" viewbox=\"0 0 16 16\"><path d=\"M1.69 2A4.582 4.582 0 0 1 8 2.023 4.583 4.583 0 0 1 11.88.817h.002a4.618 4.618 0 0 1 3.782 3.65v.003a4.543 4.543 0 0 1-1.011 3.84L9.35 14.629a1.765 1.765 0 0 1-2.093.464 1.762 1.762 0 0 1-.605-.463L1.348 8.309A4.582 4.582 0 0 1 1.689 2zm3.158.252A3.082 3.082 0 0 0 2.49 7.337l.005.005L7.8 13.664a.264.264 0 0 0 .311.069.262.262 0 0 0 .09-.069l5.312-6.33a3.043 3.043 0 0 0 .68-2.573 3.118 3.118 0 0 0-2.551-2.463 3.079 3.079 0 0 0-2.612.816l-.007.007a1.501 1.501 0 0 1-2.045 0l-.009-.008a3.082 3.082 0 0 0-2.121-.861z\"></path></svg></span></button><div class=\"Type__TypeElement-sc-goli3j-0 bDHxRN Btg2qHSuepFGBG6X0yEN\" data-encore-id=\"type\">3:00</div><button aria-haspopup=\"menu\" aria-label=\"More options for &quot;Slut!&quot; (Taylor's Version) (From The Vault) by Taylor Swift\" class=\"Button-sc-1dqy6lx-0 lhGroS mYN_ST1TsDdC6q1k1_xs\" data-encore-id=\"buttonTertiary\" data-testid=\"more-button\" tabindex=\"-1\"><span aria-hidden=\"true\" class=\"IconWrapper__Wrapper-sc-16usrgb-0 hYdsxw\"><svg aria-hidden=\"true\" class=\"Svg-sc-ytk21e-0 kPpCsU\" data-encore-id=\"icon\" role=\"img\" viewbox=\"0 0 16 16\"><path d=\"M3 8a1.5 1.5 0 1 1-3 0 1.5 1.5 0 0 1 3 0zm6.5 0a1.5 1.5 0 1 1-3 0 1.5 1.5 0 0 1 3 0zM16 8a1.5 1.5 0 1 1-3 0 1.5 1.5 0 0 1 3 0z\"></path></svg></span></button></div></div></div>,\n",
       " <div aria-rowindex=\"7\" aria-selected=\"false\" role=\"row\"><div class=\"h4HgbO_Uu1JYg5UGANeQ wTUruPetkKdWAR1dd6w4\" data-testid=\"tracklist-row\" draggable=\"true\" role=\"presentation\"><div aria-colindex=\"1\" class=\"NZAU7CsuZsMeMQB8zYUu\" role=\"gridcell\" tabindex=\"-1\"><div class=\"VpYFchIiPg3tPhBGyynT\"><span class=\"Type__TypeElement-sc-goli3j-0 bGcjcI VrRwdIZO0sRX1lsWxJBe\" data-encore-id=\"type\">7</span><button aria-label=\"Play You’re Losing Me (From The Vault) by Taylor Swift\" class=\"RfidWIoz8FON2WhFoItU\" tabindex=\"-1\"><svg aria-hidden=\"true\" class=\"Svg-sc-ytk21e-0 iYxpxA UIBT7E6ZYMcSDl1KL62g\" data-encore-id=\"icon\" role=\"img\" viewbox=\"0 0 24 24\"><path d=\"m7.05 3.606 13.49 7.788a.7.7 0 0 1 0 1.212L7.05 20.394A.7.7 0 0 1 6 19.788V4.212a.7.7 0 0 1 1.05-.606z\"></path></svg></button></div></div><div aria-colindex=\"2\" class=\"gvLrgQXBFVW6m9MscfFA\" role=\"gridcell\" tabindex=\"-1\"><img alt=\"\" aria-hidden=\"false\" class=\"mMx2LUixlnN_Fu45JpFB rkw8BWQi3miXqtlJhKg0 Yn2Ei5QZn19gria6LjZj\" draggable=\"false\" height=\"40\" loading=\"eager\" src=\"https://i.scdn.co/image/ab67616d00001e024fe1868aa6838eb595f3673a\" style=\"border-radius: 4px;\" width=\"40\"/><div class=\"iCQtmPqY0QvkumAOuCjr\"><a class=\"t_yrXoUO3qGsJS4Y6iXX\" data-testid=\"internal-track-link\" draggable=\"false\" href=\"/track/3CWq0pAKKTWb0K4yiglDc4\" tabindex=\"-1\"><div class=\"Type__TypeElement-sc-goli3j-0 fZDcWX t_yrXoUO3qGsJS4Y6iXX standalone-ellipsis-one-line\" data-encore-id=\"type\" dir=\"auto\">You’re Losing Me (From The Vault)</div></a></div></div><div aria-colindex=\"3\" class=\"bfQ2S9bMXr_kJjqEfcwA\" role=\"gridcell\" tabindex=\"-1\"><div class=\"Type__TypeElement-sc-goli3j-0 ieTwfQ nYg_xsOVmrVE_8qk1GCW\" data-encore-id=\"type\">45,505,004</div></div><div aria-colindex=\"4\" class=\"HcMOFLaukKJdK5LfdHh0\" role=\"gridcell\" tabindex=\"-1\"><button aria-checked=\"false\" aria-label=\"Save to Your Library\" class=\"Button-sc-1dqy6lx-0 lhGroS tGKwoPuvNBNK3TzCS5OH\" data-encore-id=\"buttonTertiary\" data-testid=\"add-button\" tabindex=\"-1\"><span aria-hidden=\"true\" class=\"IconWrapper__Wrapper-sc-16usrgb-0 hYdsxw\"><svg aria-hidden=\"true\" class=\"Svg-sc-ytk21e-0 kPpCsU\" data-encore-id=\"icon\" role=\"img\" viewbox=\"0 0 16 16\"><path d=\"M1.69 2A4.582 4.582 0 0 1 8 2.023 4.583 4.583 0 0 1 11.88.817h.002a4.618 4.618 0 0 1 3.782 3.65v.003a4.543 4.543 0 0 1-1.011 3.84L9.35 14.629a1.765 1.765 0 0 1-2.093.464 1.762 1.762 0 0 1-.605-.463L1.348 8.309A4.582 4.582 0 0 1 1.689 2zm3.158.252A3.082 3.082 0 0 0 2.49 7.337l.005.005L7.8 13.664a.264.264 0 0 0 .311.069.262.262 0 0 0 .09-.069l5.312-6.33a3.043 3.043 0 0 0 .68-2.573 3.118 3.118 0 0 0-2.551-2.463 3.079 3.079 0 0 0-2.612.816l-.007.007a1.501 1.501 0 0 1-2.045 0l-.009-.008a3.082 3.082 0 0 0-2.121-.861z\"></path></svg></span></button><div class=\"Type__TypeElement-sc-goli3j-0 bDHxRN Btg2qHSuepFGBG6X0yEN\" data-encore-id=\"type\">4:37</div><button aria-haspopup=\"menu\" aria-label=\"More options for You’re Losing Me (From The Vault) by Taylor Swift\" class=\"Button-sc-1dqy6lx-0 lhGroS mYN_ST1TsDdC6q1k1_xs\" data-encore-id=\"buttonTertiary\" data-testid=\"more-button\" tabindex=\"-1\"><span aria-hidden=\"true\" class=\"IconWrapper__Wrapper-sc-16usrgb-0 hYdsxw\"><svg aria-hidden=\"true\" class=\"Svg-sc-ytk21e-0 kPpCsU\" data-encore-id=\"icon\" role=\"img\" viewbox=\"0 0 16 16\"><path d=\"M3 8a1.5 1.5 0 1 1-3 0 1.5 1.5 0 0 1 3 0zm6.5 0a1.5 1.5 0 1 1-3 0 1.5 1.5 0 0 1 3 0zM16 8a1.5 1.5 0 1 1-3 0 1.5 1.5 0 0 1 3 0z\"></path></svg></span></button></div></div></div>,\n",
       " <div aria-rowindex=\"8\" aria-selected=\"false\" role=\"row\"><div class=\"h4HgbO_Uu1JYg5UGANeQ wTUruPetkKdWAR1dd6w4\" data-testid=\"tracklist-row\" draggable=\"true\" role=\"presentation\"><div aria-colindex=\"1\" class=\"NZAU7CsuZsMeMQB8zYUu\" role=\"gridcell\" tabindex=\"-1\"><div class=\"VpYFchIiPg3tPhBGyynT\"><span class=\"Type__TypeElement-sc-goli3j-0 bGcjcI VrRwdIZO0sRX1lsWxJBe\" data-encore-id=\"type\">8</span><button aria-label=\"Play august by Taylor Swift\" class=\"RfidWIoz8FON2WhFoItU\" tabindex=\"-1\"><svg aria-hidden=\"true\" class=\"Svg-sc-ytk21e-0 iYxpxA UIBT7E6ZYMcSDl1KL62g\" data-encore-id=\"icon\" role=\"img\" viewbox=\"0 0 24 24\"><path d=\"m7.05 3.606 13.49 7.788a.7.7 0 0 1 0 1.212L7.05 20.394A.7.7 0 0 1 6 19.788V4.212a.7.7 0 0 1 1.05-.606z\"></path></svg></button></div></div><div aria-colindex=\"2\" class=\"gvLrgQXBFVW6m9MscfFA\" role=\"gridcell\" tabindex=\"-1\"><img alt=\"\" aria-hidden=\"false\" class=\"mMx2LUixlnN_Fu45JpFB rkw8BWQi3miXqtlJhKg0 Yn2Ei5QZn19gria6LjZj\" draggable=\"false\" height=\"40\" loading=\"eager\" src=\"https://i.scdn.co/image/ab67616d00001e0295f754318336a07e85ec59bc\" style=\"border-radius: 4px;\" width=\"40\"/><div class=\"iCQtmPqY0QvkumAOuCjr\"><a class=\"t_yrXoUO3qGsJS4Y6iXX\" data-testid=\"internal-track-link\" draggable=\"false\" href=\"/track/3hUxzQpSfdDqwM3ZTFQY0K\" tabindex=\"-1\"><div class=\"Type__TypeElement-sc-goli3j-0 fZDcWX t_yrXoUO3qGsJS4Y6iXX standalone-ellipsis-one-line\" data-encore-id=\"type\" dir=\"auto\">august</div></a></div></div><div aria-colindex=\"3\" class=\"bfQ2S9bMXr_kJjqEfcwA\" role=\"gridcell\" tabindex=\"-1\"><div class=\"Type__TypeElement-sc-goli3j-0 ieTwfQ nYg_xsOVmrVE_8qk1GCW\" data-encore-id=\"type\">872,971,271</div></div><div aria-colindex=\"4\" class=\"HcMOFLaukKJdK5LfdHh0\" role=\"gridcell\" tabindex=\"-1\"><button aria-checked=\"false\" aria-label=\"Save to Your Library\" class=\"Button-sc-1dqy6lx-0 lhGroS tGKwoPuvNBNK3TzCS5OH\" data-encore-id=\"buttonTertiary\" data-testid=\"add-button\" tabindex=\"-1\"><span aria-hidden=\"true\" class=\"IconWrapper__Wrapper-sc-16usrgb-0 hYdsxw\"><svg aria-hidden=\"true\" class=\"Svg-sc-ytk21e-0 kPpCsU\" data-encore-id=\"icon\" role=\"img\" viewbox=\"0 0 16 16\"><path d=\"M1.69 2A4.582 4.582 0 0 1 8 2.023 4.583 4.583 0 0 1 11.88.817h.002a4.618 4.618 0 0 1 3.782 3.65v.003a4.543 4.543 0 0 1-1.011 3.84L9.35 14.629a1.765 1.765 0 0 1-2.093.464 1.762 1.762 0 0 1-.605-.463L1.348 8.309A4.582 4.582 0 0 1 1.689 2zm3.158.252A3.082 3.082 0 0 0 2.49 7.337l.005.005L7.8 13.664a.264.264 0 0 0 .311.069.262.262 0 0 0 .09-.069l5.312-6.33a3.043 3.043 0 0 0 .68-2.573 3.118 3.118 0 0 0-2.551-2.463 3.079 3.079 0 0 0-2.612.816l-.007.007a1.501 1.501 0 0 1-2.045 0l-.009-.008a3.082 3.082 0 0 0-2.121-.861z\"></path></svg></span></button><div class=\"Type__TypeElement-sc-goli3j-0 bDHxRN Btg2qHSuepFGBG6X0yEN\" data-encore-id=\"type\">4:21</div><button aria-haspopup=\"menu\" aria-label=\"More options for august by Taylor Swift\" class=\"Button-sc-1dqy6lx-0 lhGroS mYN_ST1TsDdC6q1k1_xs\" data-encore-id=\"buttonTertiary\" data-testid=\"more-button\" tabindex=\"-1\"><span aria-hidden=\"true\" class=\"IconWrapper__Wrapper-sc-16usrgb-0 hYdsxw\"><svg aria-hidden=\"true\" class=\"Svg-sc-ytk21e-0 kPpCsU\" data-encore-id=\"icon\" role=\"img\" viewbox=\"0 0 16 16\"><path d=\"M3 8a1.5 1.5 0 1 1-3 0 1.5 1.5 0 0 1 3 0zm6.5 0a1.5 1.5 0 1 1-3 0 1.5 1.5 0 0 1 3 0zM16 8a1.5 1.5 0 1 1-3 0 1.5 1.5 0 0 1 3 0z\"></path></svg></span></button></div></div></div>,\n",
       " <div aria-rowindex=\"9\" aria-selected=\"false\" role=\"row\"><div class=\"h4HgbO_Uu1JYg5UGANeQ wTUruPetkKdWAR1dd6w4\" data-testid=\"tracklist-row\" draggable=\"true\" role=\"presentation\"><div aria-colindex=\"1\" class=\"NZAU7CsuZsMeMQB8zYUu\" role=\"gridcell\" tabindex=\"-1\"><div class=\"VpYFchIiPg3tPhBGyynT\"><span class=\"Type__TypeElement-sc-goli3j-0 bGcjcI VrRwdIZO0sRX1lsWxJBe\" data-encore-id=\"type\">9</span><button aria-label=\"Play cardigan by Taylor Swift\" class=\"RfidWIoz8FON2WhFoItU\" tabindex=\"-1\"><svg aria-hidden=\"true\" class=\"Svg-sc-ytk21e-0 iYxpxA UIBT7E6ZYMcSDl1KL62g\" data-encore-id=\"icon\" role=\"img\" viewbox=\"0 0 24 24\"><path d=\"m7.05 3.606 13.49 7.788a.7.7 0 0 1 0 1.212L7.05 20.394A.7.7 0 0 1 6 19.788V4.212a.7.7 0 0 1 1.05-.606z\"></path></svg></button></div></div><div aria-colindex=\"2\" class=\"gvLrgQXBFVW6m9MscfFA\" role=\"gridcell\" tabindex=\"-1\"><img alt=\"\" aria-hidden=\"false\" class=\"mMx2LUixlnN_Fu45JpFB rkw8BWQi3miXqtlJhKg0 Yn2Ei5QZn19gria6LjZj\" draggable=\"false\" height=\"40\" loading=\"eager\" src=\"https://i.scdn.co/image/ab67616d00001e0295f754318336a07e85ec59bc\" style=\"border-radius: 4px;\" width=\"40\"/><div class=\"iCQtmPqY0QvkumAOuCjr\"><a class=\"t_yrXoUO3qGsJS4Y6iXX\" data-testid=\"internal-track-link\" draggable=\"false\" href=\"/track/4R2kfaDFhslZEMJqAFNpdd\" tabindex=\"-1\"><div class=\"Type__TypeElement-sc-goli3j-0 fZDcWX t_yrXoUO3qGsJS4Y6iXX standalone-ellipsis-one-line\" data-encore-id=\"type\" dir=\"auto\">cardigan</div></a></div></div><div aria-colindex=\"3\" class=\"bfQ2S9bMXr_kJjqEfcwA\" role=\"gridcell\" tabindex=\"-1\"><div class=\"Type__TypeElement-sc-goli3j-0 ieTwfQ nYg_xsOVmrVE_8qk1GCW\" data-encore-id=\"type\">1,044,188,984</div></div><div aria-colindex=\"4\" class=\"HcMOFLaukKJdK5LfdHh0\" role=\"gridcell\" tabindex=\"-1\"><button aria-checked=\"false\" aria-label=\"Save to Your Library\" class=\"Button-sc-1dqy6lx-0 lhGroS tGKwoPuvNBNK3TzCS5OH\" data-encore-id=\"buttonTertiary\" data-testid=\"add-button\" tabindex=\"-1\"><span aria-hidden=\"true\" class=\"IconWrapper__Wrapper-sc-16usrgb-0 hYdsxw\"><svg aria-hidden=\"true\" class=\"Svg-sc-ytk21e-0 kPpCsU\" data-encore-id=\"icon\" role=\"img\" viewbox=\"0 0 16 16\"><path d=\"M1.69 2A4.582 4.582 0 0 1 8 2.023 4.583 4.583 0 0 1 11.88.817h.002a4.618 4.618 0 0 1 3.782 3.65v.003a4.543 4.543 0 0 1-1.011 3.84L9.35 14.629a1.765 1.765 0 0 1-2.093.464 1.762 1.762 0 0 1-.605-.463L1.348 8.309A4.582 4.582 0 0 1 1.689 2zm3.158.252A3.082 3.082 0 0 0 2.49 7.337l.005.005L7.8 13.664a.264.264 0 0 0 .311.069.262.262 0 0 0 .09-.069l5.312-6.33a3.043 3.043 0 0 0 .68-2.573 3.118 3.118 0 0 0-2.551-2.463 3.079 3.079 0 0 0-2.612.816l-.007.007a1.501 1.501 0 0 1-2.045 0l-.009-.008a3.082 3.082 0 0 0-2.121-.861z\"></path></svg></span></button><div class=\"Type__TypeElement-sc-goli3j-0 bDHxRN Btg2qHSuepFGBG6X0yEN\" data-encore-id=\"type\">3:59</div><button aria-haspopup=\"menu\" aria-label=\"More options for cardigan by Taylor Swift\" class=\"Button-sc-1dqy6lx-0 lhGroS mYN_ST1TsDdC6q1k1_xs\" data-encore-id=\"buttonTertiary\" data-testid=\"more-button\" tabindex=\"-1\"><span aria-hidden=\"true\" class=\"IconWrapper__Wrapper-sc-16usrgb-0 hYdsxw\"><svg aria-hidden=\"true\" class=\"Svg-sc-ytk21e-0 kPpCsU\" data-encore-id=\"icon\" role=\"img\" viewbox=\"0 0 16 16\"><path d=\"M3 8a1.5 1.5 0 1 1-3 0 1.5 1.5 0 0 1 3 0zm6.5 0a1.5 1.5 0 1 1-3 0 1.5 1.5 0 0 1 3 0zM16 8a1.5 1.5 0 1 1-3 0 1.5 1.5 0 0 1 3 0z\"></path></svg></span></button></div></div></div>,\n",
       " <div aria-rowindex=\"10\" aria-selected=\"false\" role=\"row\"><div class=\"h4HgbO_Uu1JYg5UGANeQ wTUruPetkKdWAR1dd6w4\" data-testid=\"tracklist-row\" draggable=\"true\" role=\"presentation\"><div aria-colindex=\"1\" class=\"NZAU7CsuZsMeMQB8zYUu\" role=\"gridcell\" tabindex=\"-1\"><div class=\"VpYFchIiPg3tPhBGyynT\"><span class=\"Type__TypeElement-sc-goli3j-0 bGcjcI VrRwdIZO0sRX1lsWxJBe\" data-encore-id=\"type\">10</span><button aria-label=\"Play Blank Space by Taylor Swift\" class=\"RfidWIoz8FON2WhFoItU\" tabindex=\"-1\"><svg aria-hidden=\"true\" class=\"Svg-sc-ytk21e-0 iYxpxA UIBT7E6ZYMcSDl1KL62g\" data-encore-id=\"icon\" role=\"img\" viewbox=\"0 0 24 24\"><path d=\"m7.05 3.606 13.49 7.788a.7.7 0 0 1 0 1.212L7.05 20.394A.7.7 0 0 1 6 19.788V4.212a.7.7 0 0 1 1.05-.606z\"></path></svg></button></div></div><div aria-colindex=\"2\" class=\"gvLrgQXBFVW6m9MscfFA\" role=\"gridcell\" tabindex=\"-1\"><img alt=\"\" aria-hidden=\"false\" class=\"mMx2LUixlnN_Fu45JpFB rkw8BWQi3miXqtlJhKg0 Yn2Ei5QZn19gria6LjZj\" draggable=\"false\" height=\"40\" loading=\"eager\" src=\"https://i.scdn.co/image/ab67616d00001e029abdf14e6058bd3903686148\" style=\"border-radius: 4px;\" width=\"40\"/><div class=\"iCQtmPqY0QvkumAOuCjr\"><a class=\"t_yrXoUO3qGsJS4Y6iXX\" data-testid=\"internal-track-link\" draggable=\"false\" href=\"/track/1p80LdxRV74UKvL8gnD7ky\" tabindex=\"-1\"><div class=\"Type__TypeElement-sc-goli3j-0 fZDcWX t_yrXoUO3qGsJS4Y6iXX standalone-ellipsis-one-line\" data-encore-id=\"type\" dir=\"auto\">Blank Space</div></a></div></div><div aria-colindex=\"3\" class=\"bfQ2S9bMXr_kJjqEfcwA\" role=\"gridcell\" tabindex=\"-1\"><div class=\"Type__TypeElement-sc-goli3j-0 ieTwfQ nYg_xsOVmrVE_8qk1GCW\" data-encore-id=\"type\">1,636,426,686</div></div><div aria-colindex=\"4\" class=\"HcMOFLaukKJdK5LfdHh0\" role=\"gridcell\" tabindex=\"-1\"><button aria-checked=\"false\" aria-label=\"Save to Your Library\" class=\"Button-sc-1dqy6lx-0 lhGroS tGKwoPuvNBNK3TzCS5OH\" data-encore-id=\"buttonTertiary\" data-testid=\"add-button\" tabindex=\"-1\"><span aria-hidden=\"true\" class=\"IconWrapper__Wrapper-sc-16usrgb-0 hYdsxw\"><svg aria-hidden=\"true\" class=\"Svg-sc-ytk21e-0 kPpCsU\" data-encore-id=\"icon\" role=\"img\" viewbox=\"0 0 16 16\"><path d=\"M1.69 2A4.582 4.582 0 0 1 8 2.023 4.583 4.583 0 0 1 11.88.817h.002a4.618 4.618 0 0 1 3.782 3.65v.003a4.543 4.543 0 0 1-1.011 3.84L9.35 14.629a1.765 1.765 0 0 1-2.093.464 1.762 1.762 0 0 1-.605-.463L1.348 8.309A4.582 4.582 0 0 1 1.689 2zm3.158.252A3.082 3.082 0 0 0 2.49 7.337l.005.005L7.8 13.664a.264.264 0 0 0 .311.069.262.262 0 0 0 .09-.069l5.312-6.33a3.043 3.043 0 0 0 .68-2.573 3.118 3.118 0 0 0-2.551-2.463 3.079 3.079 0 0 0-2.612.816l-.007.007a1.501 1.501 0 0 1-2.045 0l-.009-.008a3.082 3.082 0 0 0-2.121-.861z\"></path></svg></span></button><div class=\"Type__TypeElement-sc-goli3j-0 bDHxRN Btg2qHSuepFGBG6X0yEN\" data-encore-id=\"type\">3:51</div><button aria-haspopup=\"menu\" aria-label=\"More options for Blank Space by Taylor Swift\" class=\"Button-sc-1dqy6lx-0 lhGroS mYN_ST1TsDdC6q1k1_xs\" data-encore-id=\"buttonTertiary\" data-testid=\"more-button\" tabindex=\"-1\"><span aria-hidden=\"true\" class=\"IconWrapper__Wrapper-sc-16usrgb-0 hYdsxw\"><svg aria-hidden=\"true\" class=\"Svg-sc-ytk21e-0 kPpCsU\" data-encore-id=\"icon\" role=\"img\" viewbox=\"0 0 16 16\"><path d=\"M3 8a1.5 1.5 0 1 1-3 0 1.5 1.5 0 0 1 3 0zm6.5 0a1.5 1.5 0 1 1-3 0 1.5 1.5 0 0 1 3 0zM16 8a1.5 1.5 0 1 1-3 0 1.5 1.5 0 0 1 3 0z\"></path></svg></span></button></div></div></div>]"
      ]
     },
     "execution_count": 23,
     "metadata": {},
     "output_type": "execute_result"
    }
   ],
   "source": [
    "top_songs"
   ]
  },
  {
   "cell_type": "code",
   "execution_count": 24,
   "id": "b0479c69-724b-4fad-86d2-f4f59f354e35",
   "metadata": {},
   "outputs": [
    {
     "data": {
      "text/plain": [
       "10"
      ]
     },
     "execution_count": 24,
     "metadata": {},
     "output_type": "execute_result"
    }
   ],
   "source": [
    "len(top_songs)"
   ]
  },
  {
   "cell_type": "code",
   "execution_count": 25,
   "id": "45c2f3d9-0d7d-4d86-a16f-2c3a5e8f8cfa",
   "metadata": {},
   "outputs": [
    {
     "name": "stdout",
     "output_type": "stream",
     "text": [
      "Cruel Summer 1,451,666,552\n",
      "Is It Over Now? (Taylor's Version) (From The Vault) 168,780,522\n",
      "Now That We Don't Talk (Taylor's Version) (From The Vault) 125,075,117\n",
      "Anti-Hero 1,281,681,592\n",
      "Lover 1,112,830,283\n",
      "\"Slut!\" (Taylor's Version) (From The Vault) 110,380,625\n",
      "You’re Losing Me (From The Vault) 45,505,004\n",
      "august 872,971,271\n",
      "cardigan 1,044,188,984\n",
      "Blank Space 1,636,426,686\n"
     ]
    }
   ],
   "source": [
    "for song in top_songs:\n",
    "    title = song.find(class_=\"Type__TypeElement-sc-goli3j-0 fZDcWX t_yrXoUO3qGsJS4Y6iXX standalone-ellipsis-one-line\").text\n",
    "    play_count = song.find(class_=\"Type__TypeElement-sc-goli3j-0 ieTwfQ nYg_xsOVmrVE_8qk1GCW\").text\n",
    "    print(title, play_count)"
   ]
  },
  {
   "cell_type": "markdown",
   "id": "2e175069-bc8b-48fa-af11-f610d3ff2cc6",
   "metadata": {},
   "source": [
    "### Filling the Blank Spaces!! (Saving to a CSV)"
   ]
  },
  {
   "cell_type": "code",
   "execution_count": 26,
   "id": "0dd65dd1-1cea-48f8-b5fd-beeed19277c1",
   "metadata": {},
   "outputs": [],
   "source": [
    "html = await page.content()"
   ]
  },
  {
   "cell_type": "code",
   "execution_count": 27,
   "id": "857228f4-ac03-4178-8bb4-f3b03aca940c",
   "metadata": {},
   "outputs": [],
   "source": [
    "import pandas as pd"
   ]
  },
  {
   "cell_type": "code",
   "execution_count": 28,
   "id": "57d0376d-2a74-4f3b-a024-1feab31a1202",
   "metadata": {},
   "outputs": [
    {
     "name": "stdout",
     "output_type": "stream",
     "text": [
      "Requirement already satisfied: html5lib in /Users/renatacarlosdaou/.pyenv/versions/3.11.6/lib/python3.11/site-packages (1.1)\n",
      "Requirement already satisfied: six>=1.9 in /Users/renatacarlosdaou/.pyenv/versions/3.11.6/lib/python3.11/site-packages (from html5lib) (1.16.0)\n",
      "Requirement already satisfied: webencodings in /Users/renatacarlosdaou/.pyenv/versions/3.11.6/lib/python3.11/site-packages (from html5lib) (0.5.1)\n"
     ]
    }
   ],
   "source": [
    "! pip install html5lib"
   ]
  },
  {
   "cell_type": "code",
   "execution_count": 54,
   "id": "1ee87fbf-bab1-4060-a255-74f7bfb4f4cc",
   "metadata": {},
   "outputs": [
    {
     "name": "stdout",
     "output_type": "stream",
     "text": [
      "----\n",
      "{'title': 'Cruel Summer', 'play_count': '1,451,666,552'}\n",
      "----\n",
      "{'title': \"Is It Over Now? (Taylor's Version) (From The Vault)\", 'play_count': '168,780,522'}\n",
      "----\n",
      "{'title': \"Now That We Don't Talk (Taylor's Version) (From The Vault)\", 'play_count': '125,075,117'}\n",
      "----\n",
      "{'title': 'Anti-Hero', 'play_count': '1,281,681,592'}\n",
      "----\n",
      "{'title': 'Lover', 'play_count': '1,112,830,283'}\n",
      "----\n",
      "{'title': '\"Slut!\" (Taylor\\'s Version) (From The Vault)', 'play_count': '110,380,625'}\n",
      "----\n",
      "{'title': 'You’re Losing Me (From The Vault)', 'play_count': '45,505,004'}\n",
      "----\n",
      "{'title': 'august', 'play_count': '872,971,271'}\n",
      "----\n",
      "{'title': 'cardigan', 'play_count': '1,044,188,984'}\n",
      "----\n",
      "{'title': 'Blank Space', 'play_count': '1,636,426,686'}\n"
     ]
    }
   ],
   "source": [
    "rows = []\n",
    "\n",
    "top_songs = doc.find_all('div', role='row')\n",
    "for song in top_songs:\n",
    "    print(\"----\")\n",
    "\n",
    "    row = {}\n",
    "\n",
    "    try:\n",
    "        row['title'] = song.find(class_=\"Type__TypeElement-sc-goli3j-0 fZDcWX t_yrXoUO3qGsJS4Y6iXX standalone-ellipsis-one-line\").text\n",
    "    except:\n",
    "        row['title'] = None\n",
    "\n",
    "    try:\n",
    "        row['play_count'] = song.find(class_=\"Type__TypeElement-sc-goli3j-0 ieTwfQ nYg_xsOVmrVE_8qk1GCW\").text\n",
    "    except:\n",
    "        row['play_count'] = None\n",
    "\n",
    "    print(row)\n",
    "\n",
    "    rows.append(row)"
   ]
  },
  {
   "cell_type": "code",
   "execution_count": 55,
   "id": "6141589a-f61a-45a8-92d9-9b0675f25f74",
   "metadata": {},
   "outputs": [
    {
     "data": {
      "text/html": [
       "<div>\n",
       "<style scoped>\n",
       "    .dataframe tbody tr th:only-of-type {\n",
       "        vertical-align: middle;\n",
       "    }\n",
       "\n",
       "    .dataframe tbody tr th {\n",
       "        vertical-align: top;\n",
       "    }\n",
       "\n",
       "    .dataframe thead th {\n",
       "        text-align: right;\n",
       "    }\n",
       "</style>\n",
       "<table border=\"1\" class=\"dataframe\">\n",
       "  <thead>\n",
       "    <tr style=\"text-align: right;\">\n",
       "      <th></th>\n",
       "      <th>title</th>\n",
       "      <th>play_count</th>\n",
       "    </tr>\n",
       "  </thead>\n",
       "  <tbody>\n",
       "    <tr>\n",
       "      <th>0</th>\n",
       "      <td>Cruel Summer</td>\n",
       "      <td>1,451,666,552</td>\n",
       "    </tr>\n",
       "    <tr>\n",
       "      <th>1</th>\n",
       "      <td>Is It Over Now? (Taylor's Version) (From The V...</td>\n",
       "      <td>168,780,522</td>\n",
       "    </tr>\n",
       "    <tr>\n",
       "      <th>2</th>\n",
       "      <td>Now That We Don't Talk (Taylor's Version) (Fro...</td>\n",
       "      <td>125,075,117</td>\n",
       "    </tr>\n",
       "    <tr>\n",
       "      <th>3</th>\n",
       "      <td>Anti-Hero</td>\n",
       "      <td>1,281,681,592</td>\n",
       "    </tr>\n",
       "    <tr>\n",
       "      <th>4</th>\n",
       "      <td>Lover</td>\n",
       "      <td>1,112,830,283</td>\n",
       "    </tr>\n",
       "  </tbody>\n",
       "</table>\n",
       "</div>"
      ],
      "text/plain": [
       "                                               title     play_count\n",
       "0                                       Cruel Summer  1,451,666,552\n",
       "1  Is It Over Now? (Taylor's Version) (From The V...    168,780,522\n",
       "2  Now That We Don't Talk (Taylor's Version) (Fro...    125,075,117\n",
       "3                                          Anti-Hero  1,281,681,592\n",
       "4                                              Lover  1,112,830,283"
      ]
     },
     "execution_count": 55,
     "metadata": {},
     "output_type": "execute_result"
    }
   ],
   "source": [
    "df = pd.DataFrame(rows)\n",
    "df.head()\n"
   ]
  },
  {
   "cell_type": "code",
   "execution_count": 56,
   "id": "d62b3304-77cf-4c00-8b61-fcd0ddf6c5f3",
   "metadata": {},
   "outputs": [],
   "source": [
    "df.to_csv('top_songs.csv', index=False)"
   ]
  },
  {
   "cell_type": "markdown",
   "id": "ed83639f-ca3d-4409-b64b-1898981beec8",
   "metadata": {},
   "source": [
    "## It was the end of a decade\n",
    "## But the start of an age"
   ]
  },
  {
   "cell_type": "code",
   "execution_count": null,
   "id": "30f50807-a6e7-466d-b227-b9921e3a06c9",
   "metadata": {},
   "outputs": [],
   "source": []
  }
 ],
 "metadata": {
  "kernelspec": {
   "display_name": "Python 3 (ipykernel)",
   "language": "python",
   "name": "python3"
  },
  "language_info": {
   "codemirror_mode": {
    "name": "ipython",
    "version": 3
   },
   "file_extension": ".py",
   "mimetype": "text/x-python",
   "name": "python",
   "nbconvert_exporter": "python",
   "pygments_lexer": "ipython3",
   "version": "3.11.6"
  }
 },
 "nbformat": 4,
 "nbformat_minor": 5
}
